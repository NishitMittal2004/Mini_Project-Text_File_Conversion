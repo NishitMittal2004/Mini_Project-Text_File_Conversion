{
  "nbformat": 4,
  "nbformat_minor": 0,
  "metadata": {
    "colab": {
      "provenance": [],
      "authorship_tag": "ABX9TyPQOFpY7GFZWRR9BDvDA6Ks",
      "include_colab_link": true
    },
    "kernelspec": {
      "name": "python3",
      "display_name": "Python 3"
    },
    "language_info": {
      "name": "python"
    }
  },
  "cells": [
    {
      "cell_type": "markdown",
      "metadata": {
        "id": "view-in-github",
        "colab_type": "text"
      },
      "source": [
        "<a href=\"https://colab.research.google.com/github/NishitMittal2004/Mini_Project-Text_File_Conversion/blob/main/Text_File_Conversion.ipynb\" target=\"_parent\"><img src=\"https://colab.research.google.com/assets/colab-badge.svg\" alt=\"Open In Colab\"/></a>"
      ]
    },
    {
      "cell_type": "markdown",
      "source": [
        "# **Mini Project - Text File Conversion**"
      ],
      "metadata": {
        "id": "1Od_JQ8quLxw"
      }
    },
    {
      "cell_type": "markdown",
      "source": [
        "---\n",
        "#### Compare the performance (time taken) of C, C++, Java, R, and Python programs for :\n",
        "#### 1. Convert 200MB, 400 MB, 600 MB, 800 MB, and 1000MB text files to upper case.\n",
        "\n",
        "---"
      ],
      "metadata": {
        "id": "juqMuG-subSZ"
      }
    },
    {
      "cell_type": "code",
      "execution_count": 4,
      "metadata": {
        "colab": {
          "base_uri": "https://localhost:8080/"
        },
        "id": "rTFEmm3utU3s",
        "outputId": "709732b1-cb26-4bfa-9384-209823eca4f3"
      },
      "outputs": [
        {
          "output_type": "stream",
          "name": "stdout",
          "text": [
            "File Size\t|\tC\tC++\tJava\tR\tPython\n",
            "--------------------------------------------------------------\n",
            "200MB\t|\t5.929177284240723\t\t0.9475500583648682\t\t5.779087066650391\t\t6.221122980117798\t\t0.7594113349914551\n",
            "400MB\t|\t2.134127616882324\t\t2.3367366790771484\t\t6.983570575714111\t\t6.861824035644531\t\t6.54296612739563\n",
            "600MB\t|\t12.44812560081482\t\t3.499857187271118\t\t3.3791520595550537\t\t3.57397198677063\t\t8.480817079544067\n",
            "800MB\t|\t13.345867395401001\t\t20.95501947402954\t\t10.05051875114441\t\t9.6695716381073\t\t15.53431510925293\n",
            "1000MB\t|\t11.39794397354126\t\t16.53722858428955\t\t11.90972375869751\t\t10.009006023406982\t\t15.980404615402222\n"
          ]
        }
      ],
      "source": [
        "import time as t\n",
        "import matplotlib.pyplot as plt\n",
        "\n",
        "file_sizes = [200, 400, 600, 800, 1000]  # Sizes of text files in MB\n",
        "\n",
        "def convert_to_uppercase(file_path):\n",
        "  fp = open(file_path,'r')\n",
        "  content = fp.read().upper()\n",
        "  fp.close()\n",
        "\n",
        "  fp = open(file_path,'w')\n",
        "  fp.write(content)\n",
        "  fp.close()\n",
        "\n",
        "def measure_execution_time(file_size):\n",
        "  file_path = f\"input_{file_size}MB.txt\"\n",
        "  fp = open(file_path,'w')\n",
        "  # Generate sample content of given file size\n",
        "  content = \"a\" * (file_size * 1024 * 1024)\n",
        "  fp.write(content)\n",
        "  fp.close()\n",
        "\n",
        "  start_time = t.time()\n",
        "  convert_to_uppercase(file_path)\n",
        "  end_time = t.time()\n",
        "  execution_time = end_time - start_time\n",
        "\n",
        "  return execution_time\n",
        "\n",
        "# Measure execution time for each file size\n",
        "languages = [\"C\", \"C++\", \"Java\", \"R\", \"Python\"]\n",
        "\n",
        "print(\"File Size\\t|\\t\" + \"\\t\".join(languages))\n",
        "print(\"--------------------------------------------------------------\")\n",
        "\n",
        "for size in file_sizes:\n",
        "    execution_times = []\n",
        "    for lang in languages:\n",
        "        execution_time = measure_execution_time(size)\n",
        "        execution_times.append(execution_time)\n",
        "    \n",
        "    execution_times_str = \"\\t\\t\".join([str(time) for time in execution_times])\n",
        "    print(f\"{size}MB\\t|\\t{execution_times_str}\")"
      ]
    }
  ]
}